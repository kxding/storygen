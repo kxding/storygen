{
 "cells": [
  {
   "cell_type": "markdown",
   "metadata": {
    "editable": true,
    "slideshow": {
     "slide_type": ""
    },
    "tags": []
   },
   "source": [
    "## StoryDiffusion: Consistent Self-Attention for Long-Range Image and Video Generation  \n",
    "[![Paper page](https://huggingface.co/datasets/huggingface/badges/resolve/main/paper-page-md-dark.svg)]()\n",
    "[[Paper]()] &emsp; [[Project Page]()] &emsp; <br>"
   ]
  },
  {
   "cell_type": "markdown",
   "metadata": {},
   "source": [
    "### Import Packages"
   ]
  },
  {
   "cell_type": "code",
   "execution_count": 1,
   "metadata": {},
   "outputs": [
    {
     "name": "stderr",
     "output_type": "stream",
     "text": [
      "/userhome/37/ahhfdkx/miniconda3/envs/storydiffusion/lib/python3.10/site-packages/tqdm/auto.py:21: TqdmWarning: IProgress not found. Please update jupyter and ipywidgets. See https://ipywidgets.readthedocs.io/en/stable/user_install.html\n",
      "  from .autonotebook import tqdm as notebook_tqdm\n"
     ]
    }
   ],
   "source": [
    "# %load_ext autoreload\n",
    "# %autoreload 2\n",
    "import gradio as gr\n",
    "import numpy as np\n",
    "import torch\n",
    "import requests\n",
    "import random\n",
    "import os\n",
    "import sys\n",
    "import pickle\n",
    "from PIL import Image\n",
    "from tqdm.auto import tqdm\n",
    "from datetime import datetime\n",
    "from utils.gradio_utils import is_torch2_available\n",
    "if is_torch2_available():\n",
    "    from utils.gradio_utils import \\\n",
    "        AttnProcessor2_0 as AttnProcessor\n",
    "else:\n",
    "    from utils.gradio_utils  import AttnProcessor\n",
    "\n",
    "import diffusers\n",
    "from diffusers import StableDiffusionXLPipeline\n",
    "from diffusers import DDIMScheduler\n",
    "import torch.nn.functional as F\n",
    "from utils.gradio_utils import cal_attn_mask_xl\n",
    "import copy\n",
    "import os\n",
    "from diffusers.utils import load_image\n",
    "from utils.utils import get_comic\n",
    "from utils.style_template import styles"
   ]
  },
  {
   "cell_type": "code",
   "execution_count": 2,
   "metadata": {},
   "outputs": [],
   "source": [
    "# torch.cuda.set_device(1)"
   ]
  },
  {
   "cell_type": "code",
   "execution_count": 3,
   "metadata": {},
   "outputs": [],
   "source": [
    "import torch\n",
    "torch.cuda.empty_cache()"
   ]
  },
  {
   "cell_type": "markdown",
   "metadata": {},
   "source": [
    "### Set Config "
   ]
  },
  {
   "cell_type": "code",
   "execution_count": 4,
   "metadata": {},
   "outputs": [
    {
     "data": {
      "text/plain": [
       "True"
      ]
     },
     "execution_count": 4,
     "metadata": {},
     "output_type": "execute_result"
    }
   ],
   "source": [
    "## Global\n",
    "STYLE_NAMES = list(styles.keys())\n",
    "DEFAULT_STYLE_NAME = \"(No style)\"\n",
    "torch.cuda.is_available()"
   ]
  },
  {
   "cell_type": "code",
   "execution_count": 5,
   "metadata": {},
   "outputs": [],
   "source": [
    "def setup_seed(seed):\n",
    "    torch.manual_seed(seed)\n",
    "    torch.cuda.manual_seed_all(seed)\n",
    "    np.random.seed(seed)\n",
    "    random.seed(seed)\n",
    "    torch.backends.cudnn.deterministic = True\n",
    "\n",
    "    \n",
    "#################################################\n",
    "########Consistent Self-Attention################\n",
    "#################################################\n",
    "class SpatialAttnProcessor2_0(torch.nn.Module):\n",
    "    r\"\"\"\n",
    "    Attention processor for IP-Adapater for PyTorch 2.0.\n",
    "    Args:\n",
    "        hidden_size (`int`):\n",
    "            The hidden size of the attention layer.\n",
    "        cross_attention_dim (`int`):\n",
    "            The number of channels in the `encoder_hidden_states`.\n",
    "        text_context_len (`int`, defaults to 77):\n",
    "            The context length of the text features.\n",
    "        scale (`float`, defaults to 1.0):\n",
    "            the weight scale of image prompt.\n",
    "    \"\"\"\n",
    "\n",
    "    def __init__(self, hidden_size = None, cross_attention_dim=None,id_length = 4,device = \"cuda\",dtype = torch.float16, single_model_length = 4):\n",
    "        super().__init__()\n",
    "        if not hasattr(F, \"scaled_dot_product_attention\"):\n",
    "            raise ImportError(\"AttnProcessor2_0 requires PyTorch 2.0, to use it, please upgrade PyTorch to 2.0.\")\n",
    "        self.device = device\n",
    "        self.dtype = dtype\n",
    "        self.hidden_size = hidden_size\n",
    "        self.cross_attention_dim = cross_attention_dim\n",
    "        self.total_length = id_length + 1\n",
    "        self.id_length = id_length\n",
    "        self.id_bank = {}\n",
    "        self.single_model_length = single_model_length\n",
    "\n",
    "    def __call__(\n",
    "        self,\n",
    "        attn,\n",
    "        hidden_states,\n",
    "        encoder_hidden_states=None,\n",
    "        attention_mask=None,\n",
    "        temb=None):\n",
    "        global total_count,attn_count,cur_step,mask1024,mask4096\n",
    "        global sa32, sa64\n",
    "        global write\n",
    "        global height,width\n",
    "        # __import__('ipdb').set_trace()\n",
    "        # print(\"original hidden_states.shape\", hidden_states.shape)\n",
    "        \n",
    "        hidden_states = hidden_states.view(-1, self.single_model_length // 4, hidden_states.shape[-2], hidden_states.shape[-1])\n",
    "        # print(\"hidden_states.shape\", hidden_states.shape)\n",
    "        # hidden_states.shape = [b, n, c] --> [b, video_length, n, c]\n",
    "        \n",
    "        if write:\n",
    "            # print(f\"white:{cur_step}\")\n",
    "            self.id_bank[cur_step] = [hidden_states[:self.id_length], hidden_states[self.id_length:]] # batch_size  = id_length * 2\n",
    "            # print(\"self.id_length\", self.id_length)\n",
    "            # print(\"hidden_states\", hidden_states.shape)\n",
    "        else:\n",
    "            # encoder_hidden_states = torch.cat((self.id_bank[cur_step][0].to(self.device),hidden_states[:batch_size // 2],self.id_bank[cur_step][1].to(self.device),hidden_states[batch_size // 2:]))\n",
    "            # encoder_hidden_states = torch.cat((self.id_bank[cur_step][0].repeat(4,1,1).to(self.device),hidden_states[:1],self.id_bank[cur_step][1].repeat(4,1,1).to(self.device),hidden_states[1:]))\n",
    "            encoder_hidden_states = torch.cat((self.id_bank[cur_step][0].repeat(self.id_length,1,1).to(self.device),\n",
    "                                               hidden_states[:1],\n",
    "                                               self.id_bank[cur_step][1].repeat(self.id_length,1,1).to(self.device),\n",
    "                                               hidden_states[1:]))\n",
    "            # print(\"encoder_hidden_states.shape\", encoder_hidden_states.shape)\n",
    "            # __import__('ipdb').set_trace()\n",
    "        # skip in early step\n",
    "        if cur_step <5:\n",
    "            hidden_states = self.__call2__(attn, hidden_states,encoder_hidden_states,attention_mask,temb)\n",
    "        else:   # 256 1024 4096\n",
    "            random_number = random.random()\n",
    "            if cur_step <20:\n",
    "                rand_num = 0.3\n",
    "            else:\n",
    "                rand_num = 0.1\n",
    "            # if True:\n",
    "            if random_number > rand_num:\n",
    "            # if False:\n",
    "                if not write:\n",
    "                    if hidden_states.shape[2] == (height//32) * (width//32):\n",
    "                        attention_mask = mask1024[mask1024.shape[0] // self.total_length * self.id_length:]\n",
    "                    else:\n",
    "                        attention_mask = mask4096[mask4096.shape[0] // self.total_length * self.id_length:]\n",
    "                else:\n",
    "                    if hidden_states.shape[2] == (height//32) * (width//32):\n",
    "                        # print(\"mask1024.shape[0] // self.total_length * 4\", mask1024.shape[0] // self.total_length * 4)\n",
    "                        \n",
    "                        attention_mask = mask1024[: mask1024.shape[0] // self.total_length * self.id_length, : mask1024.shape[0] // self.total_length * self.id_length]\n",
    "\n",
    "                    else:\n",
    "                        attention_mask = mask4096[:mask4096.shape[0] // self.total_length * self.id_length,:mask4096.shape[0] // self.total_length * self.id_length]\n",
    "                hidden_states = self.__call1__(attn, hidden_states,encoder_hidden_states,attention_mask,temb)\n",
    "            else:\n",
    "                hidden_states = self.__call2__(attn, hidden_states,None,attention_mask,temb)\n",
    "        attn_count +=1\n",
    "        if attn_count == total_count:\n",
    "            attn_count = 0\n",
    "            cur_step += 1\n",
    "            # print(\"height, width = \", height, width)\n",
    "            mask1024,mask4096 = cal_attn_mask_xl(self.total_length,self.id_length,sa32,sa64,height,width, device=self.device, dtype= self.dtype)\n",
    "            # print(\"mask1024,mask4096 = \", mask1024.shape, mask4096.shape)\n",
    "            # if attention_mask is not None:\n",
    "            #     print(\"attention_mask = \", attention_mask.shape)\n",
    "\n",
    "        return hidden_states\n",
    "    def __call1__(\n",
    "        self,\n",
    "        attn,\n",
    "        hidden_states,\n",
    "        encoder_hidden_states=None,\n",
    "        attention_mask=None,\n",
    "        temb=None,\n",
    "    ):\n",
    "        \n",
    "        # print(\"call1 hidden_states: \", hidden_states.shape)\n",
    "        # print(\"call1 attention_mask: \", attention_mask.shape)\n",
    "        __import__(\"ipdb\").set_trace()\n",
    "        residual = hidden_states\n",
    "        if attn.spatial_norm is not None:\n",
    "            hidden_states = attn.spatial_norm(hidden_states, temb)\n",
    "        input_ndim = hidden_states.ndim\n",
    "\n",
    "        if input_ndim == 5:\n",
    "            total_batch_size, video_length, channel, height, width = hidden_states.shape\n",
    "            hidden_states = hidden_states.view(total_batch_size, video_length, channel, height * width).transpose(2, 3)\n",
    "            \n",
    "        total_batch_size, video_length, nums_token, channel = hidden_states.shape\n",
    "        \n",
    "        img_nums = total_batch_size//2\n",
    "        hidden_states = hidden_states.view(-1,img_nums,nums_token,channel).reshape(-1,img_nums * nums_token,channel)\n",
    "\n",
    "        if attn.group_norm is not None:\n",
    "            hidden_states = attn.group_norm(hidden_states.transpose(1, 2)).transpose(1, 2)\n",
    "            \n",
    "        hidden_states = hidden_states.view(-1, nums_token, channel)\n",
    "\n",
    "        query = attn.to_q(hidden_states)\n",
    "\n",
    "        if encoder_hidden_states is None:\n",
    "            encoder_hidden_states = hidden_states  # B, N, C\n",
    "        else:\n",
    "            encoder_hidden_states = encoder_hidden_states.view(-1,self.id_length+1,nums_token,channel).reshape(-1,(self.id_length+1) * nums_token,channel)\n",
    "        # print(\"encoder_hidden_states.shape\", encoder_hidden_states.shape)\n",
    "\n",
    "        key = attn.to_k(encoder_hidden_states)\n",
    "        value = attn.to_v(encoder_hidden_states)\n",
    "\n",
    "\n",
    "        inner_dim = key.shape[-1]\n",
    "        head_dim = inner_dim // attn.heads\n",
    "        batch_size = hidden_states.shape[0]\n",
    "        # print(\"batch_size\", batch_size)\n",
    "        query = query.view(batch_size // video_length, -1, attn.heads, head_dim).transpose(1, 2)  # 默认是 选择了hiddenstate的第一个token作为query， 只考虑了batchsize 而没有考虑video_length\n",
    "\n",
    "        key = key.view(batch_size // video_length, -1, attn.heads, head_dim).transpose(1, 2)\n",
    "        value = value.view(batch_size //  video_length, -1, attn.heads, head_dim).transpose(1, 2)\n",
    "        \n",
    "        hidden_states = F.scaled_dot_product_attention(\n",
    "            query, key, value, attn_mask=attention_mask, dropout_p=0.0, is_causal=False\n",
    "        )\n",
    "\n",
    "        hidden_states = hidden_states.transpose(1, 2).reshape(total_batch_size * video_length, -1, attn.heads * head_dim)\n",
    "        hidden_states = hidden_states.to(query.dtype)\n",
    "\n",
    "        # linear proj\n",
    "        hidden_states = attn.to_out[0](hidden_states)\n",
    "        # dropout\n",
    "        hidden_states = attn.to_out[1](hidden_states)\n",
    "\n",
    "\n",
    "        if input_ndim == 5:\n",
    "            hidden_states = hidden_states.transpose(-1, -2).reshape(total_batch_size, video_length, channel, height, width)\n",
    "        if attn.residual_connection:\n",
    "            hidden_states = hidden_states + residual\n",
    "        hidden_states = hidden_states / attn.rescale_output_factor\n",
    "        # print(hidden_states.shape)\n",
    "        return hidden_states\n",
    "   \n",
    "    def __call2__(\n",
    "        self,\n",
    "        attn,\n",
    "        hidden_states,\n",
    "        encoder_hidden_states=None,\n",
    "        attention_mask=None,\n",
    "        temb=None):\n",
    "        \n",
    "        # if os.environ.get(\"DEBUG_MODE\") == \"true\":\n",
    "        # print(\"call2 hidden_states: \", hidden_states.shape)\n",
    "        residual = hidden_states\n",
    "\n",
    "        if attn.spatial_norm is not None:\n",
    "            hidden_states = attn.spatial_norm(hidden_states, temb)\n",
    "\n",
    "        input_ndim = hidden_states.ndim\n",
    "        # print(\"input_ndim\", input_ndim)\n",
    "        # print(\"hidden_states.shape\", hidden_states.shape)\n",
    "        if input_ndim == 5:\n",
    "            batch_size, video_length, channel, height, width = hidden_states.shape\n",
    "            hidden_states = hidden_states.view(batch_size, video_length, channel, height * width).transpose(2, 3)\n",
    "\n",
    "        batch_size, video_length, sequence_length, channel = (\n",
    "            hidden_states.shape\n",
    "        ) # sequence_length = nums_token\n",
    "        \n",
    "        # print(hidden_states.shape)\n",
    "        \n",
    "        if attention_mask is not None:\n",
    "            print(\"call2 attention_mask.shape\", attention_mask.shape)\n",
    "        if attention_mask is not None:\n",
    "            attention_mask = attn.prepare_attention_mask(attention_mask, video_length, sequence_length, batch_size)\n",
    "            print(\"call2 attention_mask.shape\", attention_mask.shape)\n",
    "            # scaled_dot_product_attention expects attention_mask shape to be  (batch, heads, source_length, target_length)\n",
    "            attention_mask = attention_mask.view(batch_size, attn.heads, -1, attention_mask.shape[-1])\n",
    "\n",
    "        if attn.group_norm is not None:\n",
    "            hidden_states = attn.group_norm(hidden_states.transpose(1, 2)).transpose(1, 2)\n",
    "\n",
    "        hidden_states = hidden_states.view(-1, sequence_length, channel)\n",
    "        # print(\"hidden_states.shape\", hidden_states.shape)\n",
    "        \n",
    "        query = attn.to_q(hidden_states)\n",
    "\n",
    "        if encoder_hidden_states is None:\n",
    "            encoder_hidden_states = hidden_states  # B, N, C\n",
    "        else:\n",
    "            encoder_hidden_states = encoder_hidden_states.view(-1,self.id_length+1,sequence_length,channel).reshape(-1,(self.id_length+1) * sequence_length,channel)\n",
    "            # [10, 256, 1280] -> [2, 5, 256, 1280] -> [10, 1280, 1280]\n",
    "        key = attn.to_k(encoder_hidden_states)\n",
    "        value = attn.to_v(encoder_hidden_states)\n",
    "\n",
    "        inner_dim = key.shape[-1]\n",
    "        head_dim = inner_dim // attn.heads\n",
    "\n",
    "        query = query.view(batch_size, -1, attn.heads, head_dim).transpose(1, 2)\n",
    "\n",
    "        key = key.view(batch_size, -1, attn.heads, head_dim).transpose(1, 2)\n",
    "        value = value.view(batch_size, -1, attn.heads, head_dim).transpose(1, 2)\n",
    "\n",
    "        # print(\"call2 query, key, value, \", query.shape, key.shape, value.shape,)\n",
    "        # if attention_mask is not None:\n",
    "        #     print(\"call2 attention_mask: \", attention_mask.shape)\n",
    "        # print(\"hidden_states.shape\", hidden_states.shape)\n",
    "        hidden_states = F.scaled_dot_product_attention(\n",
    "            query, key, value, attn_mask=attention_mask, dropout_p=0.0, is_causal=False\n",
    "        )\n",
    "\n",
    "        hidden_states = hidden_states.transpose(1, 2).reshape(batch_size * video_length , -1, attn.heads * head_dim)\n",
    "        hidden_states = hidden_states.to(query.dtype)\n",
    "\n",
    "        # linear proj\n",
    "        hidden_states = attn.to_out[0](hidden_states)\n",
    "        # dropout\n",
    "        hidden_states = attn.to_out[1](hidden_states)\n",
    "\n",
    "        if input_ndim == 5:\n",
    "            hidden_states = hidden_states.transpose(-1, -2).reshape(batch_size, video_length, channel, height, width)\n",
    "\n",
    "        if attn.residual_connection:\n",
    "            hidden_states = hidden_states + residual\n",
    "\n",
    "        hidden_states = hidden_states / attn.rescale_output_factor\n",
    "        # print(\"final hidden_states.shape\", hidden_states.shape)\n",
    "\n",
    "        return hidden_states"
   ]
  },
  {
   "cell_type": "markdown",
   "metadata": {},
   "source": [
    "### Load Pipeline"
   ]
  },
  {
   "cell_type": "code",
   "execution_count": 6,
   "metadata": {},
   "outputs": [
    {
     "name": "stdout",
     "output_type": "stream",
     "text": [
      "id_length 3\n",
      "total_length 4\n",
      "single_model_length 16\n",
      "height, width 512 512\n"
     ]
    }
   ],
   "source": [
    "from omegaconf import OmegaConf\n",
    "config = OmegaConf.load(\"./config/inference.yaml\")\n",
    "global attn_count, total_count, id_length, total_length,cur_step, cur_model_type\n",
    "global write\n",
    "global  sa32, sa64\n",
    "global height,width\n",
    "\n",
    "global attn_procs,unet\n",
    "\n",
    "global pipeline\n",
    "global sd_model_path\n",
    "attn_procs = {}\n",
    "\n",
    "attn_count = 0\n",
    "total_count = 0\n",
    "cur_step = 0\n",
    "id_length = 3 # >=3 都可以\n",
    "cur_model_type = \"\"\n",
    "device=\"cuda\"\n",
    "###\n",
    "write = False\n",
    "### strength of consistent self-attention: the larger, the stronger\n",
    "sa32 = 0.5\n",
    "sa64 = 0.5\n",
    "### Res. of the Generated Comics. Please Note: SDXL models may do worse in a low-resolution! \n",
    "height = config.get(\"height\", 512)\n",
    "width = config.get(\"width\", 512)\n",
    "single_model_length = config.get(\"single_model_length\", 4)\n",
    "# \n",
    "# id_length * single_model_length // 4 \n",
    "total_length = id_length + 1\n",
    "print(\"id_length\", id_length)\n",
    "print(\"total_length\", total_length)\n",
    "print(\"single_model_length\", single_model_length)\n",
    "print(\"height, width\", height, width)\n"
   ]
  },
  {
   "cell_type": "code",
   "execution_count": 7,
   "metadata": {},
   "outputs": [
    {
     "name": "stdout",
     "output_type": "stream",
     "text": [
      "loaded temporal unet's pretrained weights from ../models/sd_xl/unet ...\n",
      "using vanilla temporal module\n",
      "using vanilla temporal module\n",
      "using vanilla temporal module\n",
      "using vanilla temporal module\n",
      "using vanilla temporal module\n",
      "using vanilla temporal module\n",
      "using vanilla temporal module\n",
      "using vanilla temporal module\n",
      "using vanilla temporal module\n",
      "using vanilla temporal module\n",
      "using vanilla temporal module\n",
      "using vanilla temporal module\n",
      "using vanilla temporal module\n",
      "using vanilla temporal module\n",
      "using vanilla temporal module\n",
      "### missing keys: 420; \n",
      "### unexpected keys: 0;\n",
      "### Temporal Module Parameters: 236.7792 M\n"
     ]
    }
   ],
   "source": [
    "\n",
    "from diffusers import AutoencoderKL, EulerDiscreteScheduler\n",
    "\n",
    "from tqdm.auto import tqdm\n",
    "from transformers import CLIPTextModel, CLIPTokenizer, CLIPTextModelWithProjection\n",
    "\n",
    "sd_model_path = \"../models/sd_xl\"\n",
    "# Load Component\n",
    "tokenizer\t = CLIPTokenizer.from_pretrained(sd_model_path, subfolder=\"tokenizer\")\n",
    "text_encoder = CLIPTextModel.from_pretrained(sd_model_path, subfolder=\"text_encoder\")\n",
    "vae\t\t\t = AutoencoderKL.from_pretrained(sd_model_path, subfolder=\"vae\")\n",
    "tokenizer_two = CLIPTokenizer.from_pretrained(sd_model_path, subfolder=\"tokenizer_2\")\n",
    "text_encoder_two = CLIPTextModelWithProjection.from_pretrained(sd_model_path, subfolder=\"text_encoder_2\")\n",
    "\n",
    "from animatediff.models.unet import UNet3DConditionModel\n",
    "from animatediff.pipelines.pipeline_animation import AnimationPipeline\n",
    "# init unet model\n",
    "unet = UNet3DConditionModel.from_pretrained_2d(sd_model_path, subfolder=\"unet\", unet_additional_kwargs=OmegaConf.to_container(config.unet_additional_kwargs))\n",
    "# print(\"unet.state_dict()\", unet.state_dict().keys())\n",
    "scheduler = EulerDiscreteScheduler(timestep_spacing='leading', steps_offset=1,\t**config.noise_scheduler_kwargs)\n",
    "\n"
   ]
  },
  {
   "cell_type": "markdown",
   "metadata": {},
   "source": [
    "# generate style prompt"
   ]
  },
  {
   "cell_type": "code",
   "execution_count": 8,
   "metadata": {},
   "outputs": [
    {
     "name": "stdout",
     "output_type": "stream",
     "text": [
      "3\n",
      "id_prompts ['a girl with blond hair and blue eyes go to the company', 'a girl with blond hair and blue eyes work in the company', 'a girl with blond hair and blue eyes running in the playground']\n",
      "len(id_prompts) 3\n",
      "a girl with blond hair and blue eyes go to the company\n",
      "photograph, deformed, glitch, noisy, realistic, stock photo, lowres, bad anatomy, bad hands, text, error, missing fingers, extra digit, fewer digits, cropped, worst quality, low quality, normal quality, jpeg artifacts, signature, watermark, username, blurry naked, deformed, bad anatomy, disfigured, poorly drawn face, mutation, extra limb, ugly, disgusting, poorly drawn hands, missing limb, floating limbs, disconnected limbs, blurry, watermarks, oversaturated, distorted hands, amputation\n"
     ]
    }
   ],
   "source": [
    "seed = 2047\n",
    "sa32 = 0.5\n",
    "sa64 = 0.5\n",
    "\n",
    "global id_prompts\n",
    "global negative_prompt\n",
    "general_prompt = config.get(\"general_prompt\", \"\")\n",
    "general_prompt = general_prompt[0]\n",
    "negative_prompt = config.get(\"negative_prompt\", \"\")\n",
    "negative_prompt = negative_prompt[0]\n",
    "prompt_array = config.get(\"prompt_array\", [])\n",
    "# print(\"prompt_array\", prompt_array)\n",
    "# print(\"general_prompt\", general_prompt)\n",
    "\n",
    "def apply_style_positive(style_name: str, positive: str):\n",
    "    p, n = styles.get(style_name, styles[DEFAULT_STYLE_NAME])\n",
    "    return p.replace(\"{prompt}\", positive) \n",
    "def apply_style(style_name: str, positives: list, negative: str = \"\"):\n",
    "    p, n = styles.get(style_name, styles[DEFAULT_STYLE_NAME])\n",
    "    return [p.replace(\"{prompt}\", positive) for positive in positives], n + ' ' + negative\n",
    "### Set the generated Style\n",
    "style_name = \"Comic book\"\n",
    "setup_seed(seed)\n",
    "generator = torch.Generator(device=\"cuda\").manual_seed(seed)\n",
    "print(id_length)\n",
    "prompts = [general_prompt + \" \" + prompt for prompt in prompt_array]\n",
    "id_prompts = prompts[:id_length]\n",
    "# print(\"id_prompts\", id_prompts)\n",
    "real_prompts = prompts[id_length:]\n",
    "write = False\n",
    "cur_step = 0\n",
    "attn_count = 0\n",
    "_, negative_prompt = apply_style(style_name, id_prompts, negative_prompt)\n",
    "# id_prompts, negative_prompt = apply_style(style_name, id_prompts, negative_prompt)\n",
    "print(\"id_prompts\", id_prompts)\n",
    "print(\"len(id_prompts)\", len(id_prompts))\n",
    "print(id_prompts[0])\n",
    "print(negative_prompt)\n",
    "negative_prompts = [negative_prompt] * len(id_prompts)\n"
   ]
  },
  {
   "cell_type": "markdown",
   "metadata": {},
   "source": [
    "### Insert PairedAttention"
   ]
  },
  {
   "cell_type": "code",
   "execution_count": 9,
   "metadata": {},
   "outputs": [
    {
     "name": "stdout",
     "output_type": "stream",
     "text": [
      "successsfully load consistent self-attention\n",
      "number of the processor : 36\n"
     ]
    }
   ],
   "source": [
    "\n",
    "## Insert PairedAttention\n",
    "for name in unet.attn_processors.keys():\n",
    "    cross_attention_dim = None if name.endswith(\"attn1.processor\") else unet.config.cross_attention_dim\n",
    "    if name.startswith(\"mid_block\"):\n",
    "        hidden_size = unet.config.block_out_channels[-1]\n",
    "    elif name.startswith(\"up_blocks\"):\n",
    "        block_id = int(name[len(\"up_blocks.\")])\n",
    "        hidden_size = list(reversed(unet.config.block_out_channels))[block_id]\n",
    "    elif name.startswith(\"down_blocks\"):\n",
    "        block_id = int(name[len(\"down_blocks.\")])\n",
    "        hidden_size = unet.config.block_out_channels[block_id]\n",
    "    if cross_attention_dim is None and (name.startswith(\"up_blocks\") ) :\n",
    "        attn_procs[name] =  SpatialAttnProcessor2_0(id_length = id_length, single_model_length = single_model_length)\n",
    "        total_count +=1\n",
    "    else:\n",
    "        attn_procs[name] = AttnProcessor()\n",
    "print(\"successsfully load consistent self-attention\")\n",
    "print(f\"number of the processor : {total_count}\")\n",
    "unet.set_attn_processor(copy.deepcopy(attn_procs))\n",
    "del attn_procs ## release memory ？？？\n",
    "global mask1024,mask4096\n",
    "mask1024, mask4096 = cal_attn_mask_xl(total_length,id_length,sa32,sa64,height,width,device=device,dtype= torch.float16)\n"
   ]
  },
  {
   "cell_type": "markdown",
   "metadata": {},
   "source": [
    "## 将插入CSA的unet 投入到 AnimationPipeline中"
   ]
  },
  {
   "cell_type": "code",
   "execution_count": 10,
   "metadata": {},
   "outputs": [],
   "source": [
    "\n",
    "pipeline = AnimationPipeline(\n",
    "        unet=unet, vae=vae, tokenizer=tokenizer, text_encoder=text_encoder, scheduler=scheduler,\n",
    "        text_encoder_2 = text_encoder_two, tokenizer_2=tokenizer_two\n",
    ").to(\"cuda\")\n",
    "# print(\"pipeline = \", pipeline)"
   ]
  },
  {
   "cell_type": "markdown",
   "metadata": {},
   "source": [
    "## insert motion module and generate storygen video"
   ]
  },
  {
   "cell_type": "code",
   "execution_count": 11,
   "metadata": {},
   "outputs": [
    {
     "name": "stdout",
     "output_type": "stream",
     "text": [
      "Loading motion module from ./models/Motion_Module/mm_sdxl_v10_beta.ckpt...\n"
     ]
    }
   ],
   "source": [
    "\n",
    "from animatediff.utils.util import load_weights, save_videos_grid\n",
    "import datetime\n",
    "savedir = f\"./output/{datetime.datetime.now().strftime('%Y-%m-%dT%H-%M-%S')}\"\n",
    "pipeline = load_weights(\n",
    "\t\tpipeline = pipeline,\n",
    "\t\tmotion_module_path = config.get(\"motion_module_path\", \"\"),\n",
    "\t\tckpt_path = config.get(\"ckpt_path\", \"\"),\n",
    "\t\tlora_path = config.get(\"lora_path\", \"\"),\n",
    "\t\tlora_alpha = config.get(\"lora_alpha\", 0.8)\n",
    "\t)\n",
    "\n",
    "pipeline.unet = pipeline.unet.half()\n",
    "pipeline.text_encoder = pipeline.text_encoder.half()\n",
    "pipeline.text_encoder_2 = pipeline.text_encoder_2.half()\n",
    "pipeline.enable_model_cpu_offload()\n",
    "pipeline.enable_vae_slicing()\n",
    "\n",
    "\n",
    "random_seeds = config.get(\"seed\", [-1])\n",
    "random_seeds = [random_seeds] if isinstance(random_seeds, int) else list(random_seeds)\n",
    "random_seeds = random_seeds * len(id_prompts) if len(random_seeds) == 1 else random_seeds\n",
    "seeds = []\n",
    "samples = []\n"
   ]
  },
  {
   "cell_type": "code",
   "execution_count": 12,
   "metadata": {},
   "outputs": [
    {
     "name": "stdout",
     "output_type": "stream",
     "text": [
      "current seed: 4804386239312796766\n",
      "n_prompt ['photograph, deformed, glitch, noisy, realistic, stock photo, lowres, bad anatomy, bad hands, text, error, missing fingers, extra digit, fewer digits, cropped, worst quality, low quality, normal quality, jpeg artifacts, signature, watermark, username, blurry naked, deformed, bad anatomy, disfigured, poorly drawn face, mutation, extra limb, ugly, disgusting, poorly drawn hands, missing limb, floating limbs, disconnected limbs, blurry, watermarks, oversaturated, distorted hands, amputation', 'photograph, deformed, glitch, noisy, realistic, stock photo, lowres, bad anatomy, bad hands, text, error, missing fingers, extra digit, fewer digits, cropped, worst quality, low quality, normal quality, jpeg artifacts, signature, watermark, username, blurry naked, deformed, bad anatomy, disfigured, poorly drawn face, mutation, extra limb, ugly, disgusting, poorly drawn hands, missing limb, floating limbs, disconnected limbs, blurry, watermarks, oversaturated, distorted hands, amputation', 'photograph, deformed, glitch, noisy, realistic, stock photo, lowres, bad anatomy, bad hands, text, error, missing fingers, extra digit, fewer digits, cropped, worst quality, low quality, normal quality, jpeg artifacts, signature, watermark, username, blurry naked, deformed, bad anatomy, disfigured, poorly drawn face, mutation, extra limb, ugly, disgusting, poorly drawn hands, missing limb, floating limbs, disconnected limbs, blurry, watermarks, oversaturated, distorted hands, amputation']\n",
      "len(negative_prompts) 3\n",
      "prompt ['a girl with blond hair and blue eyes go to the company', 'a girl with blond hair and blue eyes work in the company', 'a girl with blond hair and blue eyes running in the playground']\n",
      "batch_size 3\n"
     ]
    },
    {
     "name": "stderr",
     "output_type": "stream",
     "text": [
      "100%|██████████| 25/25 [01:28<00:00,  3.52s/it]\n"
     ]
    },
    {
     "name": "stdout",
     "output_type": "stream",
     "text": [
      "samples torch.Size([3, 3, 16, 512, 512])\n",
      "Saving video grid to ./output/2024-09-10T10-32-12/sample/a girl with blond hair and blue eyes go to the company.mp4\n",
      "save to ./output/2024-09-10T10-32-12/sample/a girl with blond hair and blue eyes go to the company.mp4\n",
      "Saving video grid to ./output/2024-09-10T10-32-12/sample/a girl with blond hair and blue eyes work in the company.mp4\n",
      "save to ./output/2024-09-10T10-32-12/sample/a girl with blond hair and blue eyes work in the company.mp4\n",
      "Saving video grid to ./output/2024-09-10T10-32-12/sample/a girl with blond hair and blue eyes running in the playground.mp4\n",
      "save to ./output/2024-09-10T10-32-12/sample/a girl with blond hair and blue eyes running in the playground.mp4\n",
      "Saving video grid to ./output/2024-09-10T10-32-12/main.mp4\n"
     ]
    },
    {
     "name": "stderr",
     "output_type": "stream",
     "text": [
      "IMAGEIO FFMPEG_WRITER WARNING: input image is not divisible by macro_block_size=16, resizing from (1544, 516) to (1552, 528) to ensure video compatibility with most codecs and players. To prevent resizing, make your input image divisible by the macro_block_size or set the macro_block_size to 1 (risking incompatibility).\n",
      "[swscaler @ 0x594f500] Warning: data is not aligned! This can lead to a speed loss\n"
     ]
    },
    {
     "name": "stdout",
     "output_type": "stream",
     "text": [
      "save to ./output/2024-09-10T10-32-12/main.mp4\n"
     ]
    }
   ],
   "source": [
    "\n",
    "write = True\n",
    "with torch.inference_mode():\n",
    "    random_seed = random_seeds[0]\n",
    "    if random_seed != -1: torch.manual_seed(random_seed)\n",
    "    else: torch.seed()\n",
    "    seeds.append(torch.initial_seed())\n",
    "    print(f\"current seed: {torch.initial_seed()}\")\n",
    "    print(\"n_prompt\", negative_prompts)\n",
    "    print(\"len(negative_prompts)\", len(negative_prompts))\n",
    "    print(\"prompt\", id_prompts)\n",
    "    samples = pipeline(\n",
    "        id_prompts,\n",
    "        negative_prompt\t  = negative_prompts,\n",
    "        num_inference_steps = config.get('steps', 20),\n",
    "        guidance_scale\t  = config.get('guidance_scale', 10),\n",
    "        width\t\t\t\t  = width,\n",
    "        height\t\t\t  = height,\n",
    "        single_model_length = single_model_length,\n",
    "    ).videos\n",
    "    # print(\"sample = \", sample)\n",
    "    # save video\n",
    "    i = 0\n",
    "    print(\"samples\", samples.shape)\n",
    "    for sample in samples:\n",
    "        prompt = prompts[i]\n",
    "        # save video\n",
    "        sample = sample.unsqueeze(0)\n",
    "        save_videos_grid(sample, f\"{savedir}/sample/{prompt}.mp4\")\n",
    "        import imageio\n",
    "        video_reader = imageio.get_reader(f\"{savedir}/sample/{prompt}.mp4\")\n",
    "        imageio.mimsave(f\"{savedir}/sample/{prompt}.gif\", [frame for frame in video_reader], fps=25)\n",
    "        print(f\"save to {savedir}/sample/{prompt}.mp4\")\n",
    "        i = i + 1\n",
    "\n",
    "    \n",
    "    save_videos_grid(samples, f\"{savedir}/main.mp4\")\n",
    "    print(f\"save to {savedir}/main.mp4\")\n",
    "\n",
    "# save_videos_grid(samples, f\"{savedir}/sample-{datetime.datetime.now().strftime('%Y-%m-%dT%H-%M-%S')}.mp4\", n_rows=4)\n",
    "config.seed = seeds\n",
    "OmegaConf.save(config, f\"{savedir}/config.yaml\")"
   ]
  },
  {
   "cell_type": "markdown",
   "metadata": {},
   "source": [
    "## continued generation"
   ]
  },
  {
   "cell_type": "markdown",
   "metadata": {},
   "source": []
  },
  {
   "cell_type": "code",
   "execution_count": 13,
   "metadata": {},
   "outputs": [
    {
     "name": "stdout",
     "output_type": "stream",
     "text": [
      "real_prompts ['a girl with blond hair and blue eyes reading book in the home', 'a girl with blond hair and blue eyes wake up in the bed']\n",
      "current seed: 4804386239312796766\n",
      "n_prompt photograph, deformed, glitch, noisy, realistic, stock photo, lowres, bad anatomy, bad hands, text, error, missing fingers, extra digit, fewer digits, cropped, worst quality, low quality, normal quality, jpeg artifacts, signature, watermark, username, blurry naked, deformed, bad anatomy, disfigured, poorly drawn face, mutation, extra limb, ugly, disgusting, poorly drawn hands, missing limb, floating limbs, disconnected limbs, blurry, watermarks, oversaturated, distorted hands, amputation\n",
      "prompt a girl with blond hair and blue eyes reading book in the home\n",
      "batch_size 1\n"
     ]
    },
    {
     "name": "stderr",
     "output_type": "stream",
     "text": [
      "100%|██████████| 25/25 [00:32<00:00,  1.29s/it]\n"
     ]
    },
    {
     "name": "stdout",
     "output_type": "stream",
     "text": [
      "sample =  tensor([[[[[0.5083, 0.5091, 0.5055,  ..., 0.3871, 0.4162, 0.4669],\n",
      "           [0.5115, 0.5110, 0.5065,  ..., 0.3798, 0.4187, 0.4593],\n",
      "           [0.5101, 0.5046, 0.5036,  ..., 0.3813, 0.4216, 0.4626],\n",
      "           ...,\n",
      "           [0.8940, 0.8868, 0.8912,  ..., 0.5210, 0.5313, 0.5495],\n",
      "           [0.8754, 0.8648, 0.8666,  ..., 0.5649, 0.5696, 0.5784],\n",
      "           [0.8418, 0.8557, 0.8649,  ..., 0.5857, 0.5817, 0.5766]],\n",
      "\n",
      "          [[0.4887, 0.4895, 0.4844,  ..., 0.3779, 0.4009, 0.4488],\n",
      "           [0.4896, 0.4910, 0.4860,  ..., 0.3707, 0.4048, 0.4365],\n",
      "           [0.4886, 0.4844, 0.4830,  ..., 0.3723, 0.4092, 0.4400],\n",
      "           ...,\n",
      "           [0.8757, 0.8733, 0.8772,  ..., 0.5506, 0.5562, 0.5692],\n",
      "           [0.8648, 0.8633, 0.8652,  ..., 0.5835, 0.5871, 0.5954],\n",
      "           [0.8303, 0.8425, 0.8465,  ..., 0.5972, 0.5934, 0.5989]],\n",
      "\n",
      "          [[0.4760, 0.4792, 0.4745,  ..., 0.3284, 0.3706, 0.4106],\n",
      "           [0.4778, 0.4806, 0.4768,  ..., 0.3261, 0.3764, 0.3921],\n",
      "           [0.4779, 0.4748, 0.4743,  ..., 0.3249, 0.3764, 0.3992],\n",
      "           ...,\n",
      "           [0.8405, 0.8396, 0.8424,  ..., 0.6192, 0.6349, 0.6481],\n",
      "           [0.8207, 0.8207, 0.8225,  ..., 0.6736, 0.6756, 0.6752],\n",
      "           [0.7786, 0.7909, 0.7962,  ..., 0.6759, 0.6787, 0.6638]],\n",
      "\n",
      "          ...,\n",
      "\n",
      "          [[0.4613, 0.4641, 0.4581,  ..., 0.4468, 0.4560, 0.4945],\n",
      "           [0.4628, 0.4651, 0.4601,  ..., 0.4401, 0.4606, 0.4866],\n",
      "           [0.4617, 0.4588, 0.4574,  ..., 0.4396, 0.4646, 0.4899],\n",
      "           ...,\n",
      "           [0.8740, 0.8725, 0.8759,  ..., 0.2590, 0.2523, 0.2424],\n",
      "           [0.8426, 0.8421, 0.8447,  ..., 0.2695, 0.2656, 0.2812],\n",
      "           [0.7949, 0.8086, 0.8186,  ..., 0.2853, 0.2702, 0.2686]],\n",
      "\n",
      "          [[0.4510, 0.4530, 0.4471,  ..., 0.4380, 0.4641, 0.5074],\n",
      "           [0.4516, 0.4529, 0.4496,  ..., 0.4295, 0.4643, 0.4995],\n",
      "           [0.4512, 0.4475, 0.4466,  ..., 0.4290, 0.4677, 0.5014],\n",
      "           ...,\n",
      "           [0.8285, 0.8248, 0.8274,  ..., 0.1885, 0.1852, 0.1781],\n",
      "           [0.8363, 0.8278, 0.8321,  ..., 0.1843, 0.1806, 0.1844],\n",
      "           [0.8229, 0.8273, 0.8333,  ..., 0.1699, 0.1702, 0.1769]],\n",
      "\n",
      "          [[0.4806, 0.4832, 0.4785,  ..., 0.4318, 0.4712, 0.5237],\n",
      "           [0.4819, 0.4842, 0.4814,  ..., 0.4237, 0.4740, 0.5119],\n",
      "           [0.4815, 0.4783, 0.4782,  ..., 0.4232, 0.4764, 0.5148],\n",
      "           ...,\n",
      "           [0.8685, 0.8708, 0.8772,  ..., 0.2701, 0.2550, 0.2454],\n",
      "           [0.8451, 0.8488, 0.8547,  ..., 0.2507, 0.2482, 0.2597],\n",
      "           [0.8105, 0.8257, 0.8356,  ..., 0.2378, 0.2357, 0.2372]]],\n",
      "\n",
      "\n",
      "         [[[0.4421, 0.4444, 0.4417,  ..., 0.3390, 0.3796, 0.4351],\n",
      "           [0.4458, 0.4456, 0.4401,  ..., 0.3346, 0.3755, 0.4218],\n",
      "           [0.4467, 0.4422, 0.4406,  ..., 0.3334, 0.3739, 0.4180],\n",
      "           ...,\n",
      "           [0.8498, 0.8491, 0.8479,  ..., 0.4588, 0.4781, 0.4974],\n",
      "           [0.8261, 0.8254, 0.8247,  ..., 0.5132, 0.5243, 0.5312],\n",
      "           [0.8012, 0.8186, 0.8254,  ..., 0.5381, 0.5344, 0.5275]],\n",
      "\n",
      "          [[0.4136, 0.4147, 0.4110,  ..., 0.3104, 0.3413, 0.3928],\n",
      "           [0.4140, 0.4145, 0.4092,  ..., 0.3062, 0.3405, 0.3771],\n",
      "           [0.4142, 0.4105, 0.4092,  ..., 0.3057, 0.3410, 0.3766],\n",
      "           ...,\n",
      "           [0.8072, 0.8076, 0.8053,  ..., 0.4925, 0.5080, 0.5185],\n",
      "           [0.7902, 0.7944, 0.7927,  ..., 0.5330, 0.5430, 0.5454],\n",
      "           [0.7642, 0.7749, 0.7764,  ..., 0.5489, 0.5449, 0.5441]],\n",
      "\n",
      "          [[0.4056, 0.4086, 0.4052,  ..., 0.2771, 0.3300, 0.3706],\n",
      "           [0.4063, 0.4086, 0.4041,  ..., 0.2750, 0.3277, 0.3413],\n",
      "           [0.4070, 0.4051, 0.4042,  ..., 0.2717, 0.3236, 0.3450],\n",
      "           ...,\n",
      "           [0.7661, 0.7677, 0.7650,  ..., 0.5508, 0.5746, 0.5858],\n",
      "           [0.7421, 0.7467, 0.7453,  ..., 0.6098, 0.6172, 0.6143],\n",
      "           [0.7111, 0.7212, 0.7221,  ..., 0.6171, 0.6186, 0.6009]],\n",
      "\n",
      "          ...,\n",
      "\n",
      "          [[0.3912, 0.3951, 0.3913,  ..., 0.3953, 0.4148, 0.4611],\n",
      "           [0.3932, 0.3952, 0.3906,  ..., 0.3907, 0.4116, 0.4455],\n",
      "           [0.3933, 0.3911, 0.3904,  ..., 0.3891, 0.4127, 0.4439],\n",
      "           ...,\n",
      "           [0.8042, 0.8069, 0.8052,  ..., 0.1467, 0.1487, 0.1408],\n",
      "           [0.7652, 0.7732, 0.7738,  ..., 0.1599, 0.1651, 0.1854],\n",
      "           [0.7282, 0.7416, 0.7471,  ..., 0.1744, 0.1659, 0.1703]],\n",
      "\n",
      "          [[0.3808, 0.3825, 0.3786,  ..., 0.3788, 0.4107, 0.4577],\n",
      "           [0.3804, 0.3806, 0.3772,  ..., 0.3741, 0.4074, 0.4475],\n",
      "           [0.3800, 0.3778, 0.3768,  ..., 0.3717, 0.4085, 0.4447],\n",
      "           ...,\n",
      "           [0.7119, 0.7109, 0.7085,  ..., 0.0723, 0.0795, 0.0711],\n",
      "           [0.7134, 0.7091, 0.7113,  ..., 0.0755, 0.0799, 0.0810],\n",
      "           [0.7070, 0.7088, 0.7134,  ..., 0.0545, 0.0620, 0.0715]],\n",
      "\n",
      "          [[0.4107, 0.4125, 0.4091,  ..., 0.3923, 0.4419, 0.4995],\n",
      "           [0.4110, 0.4120, 0.4084,  ..., 0.3875, 0.4394, 0.4840],\n",
      "           [0.4113, 0.4089, 0.4081,  ..., 0.3856, 0.4380, 0.4779],\n",
      "           ...,\n",
      "           [0.8129, 0.8188, 0.8187,  ..., 0.1501, 0.1460, 0.1351],\n",
      "           [0.7895, 0.7975, 0.7994,  ..., 0.1411, 0.1478, 0.1587],\n",
      "           [0.7636, 0.7771, 0.7818,  ..., 0.1289, 0.1321, 0.1351]]],\n",
      "\n",
      "\n",
      "         [[[0.4152, 0.4227, 0.4189,  ..., 0.2933, 0.3343, 0.3796],\n",
      "           [0.4265, 0.4259, 0.4211,  ..., 0.2880, 0.3276, 0.3721],\n",
      "           [0.4277, 0.4216, 0.4201,  ..., 0.2929, 0.3323, 0.3744],\n",
      "           ...,\n",
      "           [0.6227, 0.6190, 0.6240,  ..., 0.3237, 0.3440, 0.3698],\n",
      "           [0.6030, 0.5965, 0.5988,  ..., 0.3666, 0.3839, 0.3981],\n",
      "           [0.5757, 0.5854, 0.5941,  ..., 0.3943, 0.4063, 0.3971]],\n",
      "\n",
      "          [[0.3795, 0.3864, 0.3818,  ..., 0.2726, 0.3019, 0.3418],\n",
      "           [0.3877, 0.3880, 0.3839,  ..., 0.2683, 0.2992, 0.3348],\n",
      "           [0.3888, 0.3836, 0.3827,  ..., 0.2741, 0.3060, 0.3371],\n",
      "           ...,\n",
      "           [0.5662, 0.5614, 0.5660,  ..., 0.3635, 0.3806, 0.3970],\n",
      "           [0.5505, 0.5448, 0.5477,  ..., 0.4001, 0.4130, 0.4222],\n",
      "           [0.5236, 0.5262, 0.5314,  ..., 0.4190, 0.4265, 0.4227]],\n",
      "\n",
      "          [[0.3739, 0.3825, 0.3777,  ..., 0.2600, 0.3113, 0.3499],\n",
      "           [0.3826, 0.3842, 0.3803,  ..., 0.2591, 0.3117, 0.3329],\n",
      "           [0.3838, 0.3797, 0.3793,  ..., 0.2631, 0.3139, 0.3393],\n",
      "           ...,\n",
      "           [0.5280, 0.5255, 0.5282,  ..., 0.3821, 0.4023, 0.4228],\n",
      "           [0.5039, 0.4990, 0.5024,  ..., 0.4264, 0.4355, 0.4445],\n",
      "           [0.4721, 0.4729, 0.4754,  ..., 0.4387, 0.4505, 0.4406]],\n",
      "\n",
      "          ...,\n",
      "\n",
      "          [[0.3476, 0.3560, 0.3505,  ..., 0.3295, 0.3521, 0.3894],\n",
      "           [0.3563, 0.3576, 0.3532,  ..., 0.3253, 0.3452, 0.3770],\n",
      "           [0.3576, 0.3532, 0.3525,  ..., 0.3273, 0.3497, 0.3766],\n",
      "           ...,\n",
      "           [0.5493, 0.5511, 0.5559,  ..., 0.0613, 0.0582, 0.0604],\n",
      "           [0.5145, 0.5153, 0.5193,  ..., 0.0804, 0.0802, 0.0954],\n",
      "           [0.4742, 0.4817, 0.4895,  ..., 0.1026, 0.1061, 0.0989]],\n",
      "\n",
      "          [[0.3482, 0.3560, 0.3501,  ..., 0.2884, 0.3202, 0.3577],\n",
      "           [0.3557, 0.3564, 0.3528,  ..., 0.2829, 0.3135, 0.3505],\n",
      "           [0.3569, 0.3524, 0.3512,  ..., 0.2860, 0.3198, 0.3532],\n",
      "           ...,\n",
      "           [0.4950, 0.4936, 0.4949,  ..., 0.0284, 0.0294, 0.0286],\n",
      "           [0.4978, 0.4888, 0.4931,  ..., 0.0378, 0.0357, 0.0355],\n",
      "           [0.5019, 0.4973, 0.5001,  ..., 0.0302, 0.0373, 0.0333]],\n",
      "\n",
      "          [[0.3821, 0.3892, 0.3842,  ..., 0.3329, 0.3835, 0.4315],\n",
      "           [0.3902, 0.3905, 0.3879,  ..., 0.3271, 0.3779, 0.4187],\n",
      "           [0.3908, 0.3864, 0.3864,  ..., 0.3301, 0.3829, 0.4218],\n",
      "           ...,\n",
      "           [0.5554, 0.5584, 0.5652,  ..., 0.0885, 0.0808, 0.0746],\n",
      "           [0.5322, 0.5284, 0.5357,  ..., 0.0873, 0.0881, 0.0932],\n",
      "           [0.5045, 0.5091, 0.5180,  ..., 0.0832, 0.0936, 0.0873]]]]])\n"
     ]
    },
    {
     "ename": "AttributeError",
     "evalue": "'Tensor' object has no attribute 'append'",
     "output_type": "error",
     "traceback": [
      "\u001b[0;31m---------------------------------------------------------------------------\u001b[0m",
      "\u001b[0;31mAttributeError\u001b[0m                            Traceback (most recent call last)",
      "Cell \u001b[0;32mIn[13], line 20\u001b[0m\n\u001b[1;32m      9\u001b[0m sample \u001b[38;5;241m=\u001b[39m pipeline(\n\u001b[1;32m     10\u001b[0m     id_prompt,\n\u001b[1;32m     11\u001b[0m     negative_prompt\t  \u001b[38;5;241m=\u001b[39m negative_prompt,\n\u001b[0;32m   (...)\u001b[0m\n\u001b[1;32m     17\u001b[0m     single_model_length \u001b[38;5;241m=\u001b[39m single_model_length,  \n\u001b[1;32m     18\u001b[0m )\u001b[38;5;241m.\u001b[39mvideos\n\u001b[1;32m     19\u001b[0m \u001b[38;5;28mprint\u001b[39m(\u001b[38;5;124m\"\u001b[39m\u001b[38;5;124msample = \u001b[39m\u001b[38;5;124m\"\u001b[39m, sample)\n\u001b[0;32m---> 20\u001b[0m \u001b[43msamples\u001b[49m\u001b[38;5;241;43m.\u001b[39;49m\u001b[43mappend\u001b[49m(sample)\n\u001b[1;32m     21\u001b[0m \u001b[38;5;66;03m# save video\u001b[39;00m\n\u001b[1;32m     22\u001b[0m save_videos_grid(sample, \u001b[38;5;124mf\u001b[39m\u001b[38;5;124m\"\u001b[39m\u001b[38;5;132;01m{\u001b[39;00msavedir\u001b[38;5;132;01m}\u001b[39;00m\u001b[38;5;124m/\u001b[39m\u001b[38;5;132;01m{\u001b[39;00mid_prompt\u001b[38;5;132;01m}\u001b[39;00m\u001b[38;5;124m.mp4\u001b[39m\u001b[38;5;124m\"\u001b[39m)\n",
      "\u001b[0;31mAttributeError\u001b[0m: 'Tensor' object has no attribute 'append'"
     ]
    }
   ],
   "source": [
    "write = False \n",
    "with torch.inference_mode():\n",
    "    print(\"real_prompts\", real_prompts)\n",
    "    for prompt_idx, (id_prompt, random_seed) in enumerate(zip(real_prompts,  random_seeds)):\n",
    "        cur_step = 0\n",
    "        print(f\"current seed: {torch.initial_seed()}\")\n",
    "        print(\"n_prompt\", negative_prompt)\n",
    "        print(\"prompt\", id_prompt)\n",
    "        sample = pipeline(\n",
    "            id_prompt,\n",
    "            negative_prompt\t  = negative_prompt,\n",
    "            num_inference_steps = config.get('steps', 20),\n",
    "            guidance_scale\t  = config.get('guidance_scale', 10),\n",
    "            width\t\t\t\t  = width,\n",
    "            height\t\t\t  = height,\n",
    "            # single_model_length = single_model_length,\n",
    "            single_model_length = single_model_length,  \n",
    "        ).videos\n",
    "        print(\"sample = \", sample)\n",
    "        # samples.append(sample)\n",
    "        # save video\n",
    "        save_videos_grid(sample, f\"{savedir}/{id_prompt}.mp4\")\n",
    "        print(f\"save to {savedir}/{id_prompt}.mp4\")\n",
    "# samples = torch.concat(samples)"
   ]
  },
  {
   "cell_type": "code",
   "execution_count": 14,
   "metadata": {},
   "outputs": [
    {
     "name": "stdout",
     "output_type": "stream",
     "text": [
      "Saving video grid to ./output/2024-09-10T10-32-12/a girl with blond hair and blue eyes reading book in the home.mp4\n"
     ]
    }
   ],
   "source": [
    "\n",
    "save_videos_grid(sample, f\"{savedir}/{id_prompt}.mp4\")"
   ]
  },
  {
   "cell_type": "markdown",
   "metadata": {},
   "source": [
    "### Create the text description for the comics\n",
    "Tips: Existing text2image diffusion models may not always generate images that accurately match text descriptions. Our training-free approach can improve the consistency of characters, but it does not enhance the control over the text. Therefore, in some cases, you may need to carefully craft your prompts."
   ]
  },
  {
   "cell_type": "markdown",
   "metadata": {},
   "source": [
    "### Continued Creation\n",
    "From now on, you can create endless stories about this character without worrying about memory constraints."
   ]
  },
  {
   "cell_type": "markdown",
   "metadata": {},
   "source": [
    "### Make pictures into comics"
   ]
  },
  {
   "cell_type": "code",
   "execution_count": null,
   "metadata": {},
   "outputs": [],
   "source": []
  },
  {
   "cell_type": "code",
   "execution_count": null,
   "metadata": {},
   "outputs": [],
   "source": []
  }
 ],
 "metadata": {
  "fileId": "51613593-0d85-430e-8fce-c85e580fc483",
  "kernelspec": {
   "display_name": "Python 3.9.2 64-bit",
   "language": "python",
   "name": "python3"
  },
  "language_info": {
   "codemirror_mode": {
    "name": "ipython",
    "version": 3
   },
   "file_extension": ".py",
   "mimetype": "text/x-python",
   "name": "python",
   "nbconvert_exporter": "python",
   "pygments_lexer": "ipython3",
   "version": "3.10.14"
  },
  "vscode": {
   "interpreter": {
    "hash": "31f2aee4e71d21fbe5cf8b01ff0e069b9275f58929596ceb00d14d90e3e16cd6"
   }
  }
 },
 "nbformat": 4,
 "nbformat_minor": 4
}
